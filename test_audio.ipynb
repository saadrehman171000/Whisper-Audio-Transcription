{
 "cells": [
  {
   "cell_type": "code",
   "execution_count": 3,
   "metadata": {},
   "outputs": [
    {
     "name": "stdout",
     "output_type": "stream",
     "text": [
      "Defaulting to user installation because normal site-packages is not writeable\n",
      "Collecting gTTS\n",
      "  Downloading gTTS-2.5.4-py3-none-any.whl.metadata (4.1 kB)\n",
      "Requirement already satisfied: requests<3,>=2.27 in c:\\users\\saadr\\appdata\\roaming\\python\\python312\\site-packages (from gTTS) (2.32.3)\n",
      "Collecting click<8.2,>=7.1 (from gTTS)\n",
      "  Using cached click-8.1.8-py3-none-any.whl.metadata (2.3 kB)\n",
      "Requirement already satisfied: colorama in c:\\users\\saadr\\appdata\\roaming\\python\\python312\\site-packages (from click<8.2,>=7.1->gTTS) (0.4.6)\n",
      "Requirement already satisfied: charset-normalizer<4,>=2 in c:\\users\\saadr\\appdata\\roaming\\python\\python312\\site-packages (from requests<3,>=2.27->gTTS) (3.4.1)\n",
      "Requirement already satisfied: idna<4,>=2.5 in c:\\users\\saadr\\appdata\\roaming\\python\\python312\\site-packages (from requests<3,>=2.27->gTTS) (3.10)\n",
      "Requirement already satisfied: urllib3<3,>=1.21.1 in c:\\users\\saadr\\appdata\\roaming\\python\\python312\\site-packages (from requests<3,>=2.27->gTTS) (2.3.0)\n",
      "Requirement already satisfied: certifi>=2017.4.17 in c:\\users\\saadr\\appdata\\roaming\\python\\python312\\site-packages (from requests<3,>=2.27->gTTS) (2024.12.14)\n",
      "Downloading gTTS-2.5.4-py3-none-any.whl (29 kB)\n",
      "Using cached click-8.1.8-py3-none-any.whl (98 kB)\n",
      "Installing collected packages: click, gTTS\n",
      "Successfully installed click-8.1.8 gTTS-2.5.4\n"
     ]
    },
    {
     "name": "stderr",
     "output_type": "stream",
     "text": [
      "DEPRECATION: Loading egg at c:\\users\\saadr\\appdata\\roaming\\python\\python312\\site-packages\\volatility3-2.11.0-py3.12.egg is deprecated. pip 25.1 will enforce this behaviour change. A possible replacement is to use pip for package installation. Discussion can be found at https://github.com/pypa/pip/issues/12330\n",
      "\n",
      "[notice] A new release of pip is available: 24.3.1 -> 25.0\n",
      "[notice] To update, run: python.exe -m pip install --upgrade pip\n"
     ]
    }
   ],
   "source": [
    "!pip install gTTS\n"
   ]
  },
  {
   "cell_type": "code",
   "execution_count": 5,
   "metadata": {},
   "outputs": [],
   "source": [
    "from gtts import gTTS\n",
    "\n",
    "# Text to be converted to speech\n",
    "text = \"\"\"\n",
    "Greetings! This is an extended example for testing your speech-to-text system. The purpose of this sample text is to assist you in evaluating the performance of the model. \n",
    "Its important that the system can accurately process and transcribe this speech into text. \n",
    "This audio serves as a demonstration to examine the transcription capabilities of your speech recognition model, allowing you to check its functionality. \n",
    "Continue experimenting and refining your model to achieve higher accuracy and better transcription results!\n",
    "\"\"\"\n",
    "\n",
    "# Language in which you want to convert\n",
    "language = 'en'\n",
    "\n",
    "# Passing the text and language to the engine\n",
    "tts = gTTS(text=text, lang=language, slow=False)\n",
    "\n",
    "# Saving the converted audio\n",
    "tts.save(\"test_audio.mp3\")\n"
   ]
  }
 ],
 "metadata": {
  "kernelspec": {
   "display_name": "Python 3",
   "language": "python",
   "name": "python3"
  },
  "language_info": {
   "codemirror_mode": {
    "name": "ipython",
    "version": 3
   },
   "file_extension": ".py",
   "mimetype": "text/x-python",
   "name": "python",
   "nbconvert_exporter": "python",
   "pygments_lexer": "ipython3",
   "version": "3.12.6"
  }
 },
 "nbformat": 4,
 "nbformat_minor": 2
}
